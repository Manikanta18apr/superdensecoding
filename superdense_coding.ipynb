{
 "cells": [
  {
   "cell_type": "code",
   "execution_count": null,
   "id": "a6d7f82f",
   "metadata": {},
   "outputs": [],
   "source": [
    "\n",
    "\n",
    "!pip install qiskit qiskit-aer matplotlib pylatexenc ipywidgets\n"
   ]
  },
  {
   "cell_type": "code",
   "execution_count": null,
   "id": "e836e52f",
   "metadata": {},
   "outputs": [],
   "source": [
    "\n",
    "from qiskit import QuantumCircuit, transpile\n",
    "from qiskit_aer import AerSimulator\n",
    "from qiskit.visualization import plot_histogram, plot_bloch_multivector\n",
    "import matplotlib.pyplot as plt\n",
    "import ipywidgets as widgets\n",
    "from IPython.display import display\n"
   ]
  },
  {
   "cell_type": "code",
   "execution_count": null,
   "id": "d398ebbe",
   "metadata": {},
   "outputs": [],
   "source": [
    "\n",
    "def build_superdense_circuit(msg: str) -> QuantumCircuit:\n",
    "    if msg not in {\"00\", \"01\", \"10\", \"11\"}:\n",
    "        raise ValueError(\"msg must be one of: '00', '01', '10', '11'\")\n",
    "\n",
    "    qc = QuantumCircuit(2, 2, name=f\"SDC_{msg}\")\n",
    "\n",
    "    # Step 1: Entanglement (Bell pair)\n",
    "    qc.h(0)\n",
    "    qc.cx(0, 1)\n",
    "\n",
    "    # Step 2: Alice encodes her 2-bit message\n",
    "    if msg == \"01\":\n",
    "        qc.x(0)\n",
    "    elif msg == \"10\":\n",
    "        qc.z(0)\n",
    "    elif msg == \"11\":\n",
    "        qc.x(0)\n",
    "        qc.z(0)\n",
    "    # \"00\" -> do nothing\n",
    "\n",
    "    # Step 3: Bob decodes\n",
    "    qc.cx(0, 1)\n",
    "    qc.h(0)\n",
    "\n",
    "    # Step 4: Measure\n",
    "    qc.measure([0, 1], [0, 1])\n",
    "    return qc\n"
   ]
  },
  {
   "cell_type": "code",
   "execution_count": null,
   "id": "9e21c617",
   "metadata": {},
   "outputs": [],
   "source": [
    "\n",
    "def run_superdense_simulation(msg: str, shots: int = 1024, seed=None):\n",
    "    qc = build_superdense_circuit(msg)\n",
    "    sim = AerSimulator(seed_simulator=seed)\n",
    "    tqc = transpile(qc, sim, optimization_level=1, seed_transpiler=seed)\n",
    "    result = sim.run(tqc, shots=shots).result()\n",
    "    counts = result.get_counts()\n",
    "    return qc, counts\n"
   ]
  },
  {
   "cell_type": "markdown",
   "id": "0686a176",
   "metadata": {},
   "source": [
    "## Trying One Message"
   ]
  },
  {
   "cell_type": "code",
   "execution_count": null,
   "id": "2dce31a4",
   "metadata": {},
   "outputs": [],
   "source": [
    "\n",
    "msg = \"10\"  # Change to \"00\", \"01\", \"10\", or \"11\"\n",
    "qc, counts = run_superdense_simulation(msg)\n",
    "display(qc.draw(\"mpl\"))\n",
    "plot_histogram(counts, title=f\"Decoded result for message {msg}\")\n",
    "plt.show()\n",
    "print(\"Counts:\", counts)\n"
   ]
  },
  {
   "cell_type": "markdown",
   "id": "941e487d",
   "metadata": {},
   "source": [
    "## Running All Messages"
   ]
  },
  {
   "cell_type": "code",
   "execution_count": null,
   "id": "97fdd29e",
   "metadata": {},
   "outputs": [],
   "source": [
    "\n",
    "def demo_all_messages(shots=1024, seed=None):\n",
    "    results = {}\n",
    "    for msg in [\"00\", \"01\", \"10\", \"11\"]:\n",
    "        qc, counts = run_superdense_simulation(msg, shots, seed)\n",
    "        display(qc.draw(\"mpl\"))\n",
    "        plot_histogram(counts, title=f\"Decoded result for message {msg}\")\n",
    "        plt.show()\n",
    "        print(f\"Message {msg} -> Counts: {counts}\")\n",
    "        results[msg] = counts\n",
    "    return results\n",
    "\n",
    "demo_all_messages()\n"
   ]
  }
 ],
 "metadata": {
  "kernelspec": {
   "display_name": "Python 3",
   "language": "python",
   "name": "python3"
  },
  "language_info": {
   "codemirror_mode": {
    "name": "ipython",
    "version": 3
   },
   "file_extension": ".py",
   "mimetype": "text/x-python",
   "name": "python",
   "nbconvert_exporter": "python",
   "pygments_lexer": "ipython3",
   "version": "3.13.2"
  }
 },
 "nbformat": 4,
 "nbformat_minor": 5
}
